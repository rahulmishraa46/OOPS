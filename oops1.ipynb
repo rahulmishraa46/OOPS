{
 "cells": [
  {
   "cell_type": "markdown",
   "id": "d6f5f4c0",
   "metadata": {},
   "source": [
    "# \n",
    "\n",
    "\n",
    "\n",
    "OOPS(PROGRAMMING)"
   ]
  },
  {
   "cell_type": "markdown",
   "id": "213fbb28",
   "metadata": {},
   "source": [
    "# methods (): are the functions that are decalred inside the a class are called as Methods\n",
    "    \n",
    "Attribute: are the initaillition done inside the class (constructor)"
   ]
  },
  {
   "cell_type": "code",
   "execution_count": null,
   "id": "9eea1984",
   "metadata": {},
   "outputs": [],
   "source": [
    "decalartion of the class :"
   ]
  },
  {
   "cell_type": "code",
   "execution_count": 37,
   "id": "3bd0136c",
   "metadata": {},
   "outputs": [],
   "source": [
    "class Dog():\n",
    "    ##intiasation of the of the attributes.\n",
    "    def __init__(Self,param1,param2):\n",
    "        Self.param1 = param1\n",
    "        Self.param2 = param2\n",
    "    def SOME_METHOD(self):\n",
    "        #declaration of the method.\n",
    "        print('self.param')"
   ]
  },
  {
   "cell_type": "code",
   "execution_count": 38,
   "id": "ffd59c19",
   "metadata": {},
   "outputs": [],
   "source": [
    "dog = Dog('india','gomti ngar')"
   ]
  },
  {
   "cell_type": "code",
   "execution_count": 39,
   "id": "44f2548e",
   "metadata": {},
   "outputs": [
    {
     "name": "stdout",
     "output_type": "stream",
     "text": [
      "self.param\n"
     ]
    }
   ],
   "source": [
    "dog.SOME_METHOD()"
   ]
  },
  {
   "cell_type": "code",
   "execution_count": 40,
   "id": "dc6da809",
   "metadata": {},
   "outputs": [
    {
     "data": {
      "text/plain": [
       "'gomti ngar'"
      ]
     },
     "execution_count": 40,
     "metadata": {},
     "output_type": "execute_result"
    }
   ],
   "source": [
    "dog.param2\n"
   ]
  },
  {
   "cell_type": "code",
   "execution_count": 41,
   "id": "d092de67",
   "metadata": {},
   "outputs": [
    {
     "data": {
      "text/plain": [
       "'india'"
      ]
     },
     "execution_count": 41,
     "metadata": {},
     "output_type": "execute_result"
    }
   ],
   "source": [
    "dog.param1"
   ]
  },
  {
   "cell_type": "code",
   "execution_count": null,
   "id": "6e464196",
   "metadata": {},
   "outputs": [],
   "source": []
  }
 ],
 "metadata": {
  "kernelspec": {
   "display_name": "Python 3 (ipykernel)",
   "language": "python",
   "name": "python3"
  },
  "language_info": {
   "codemirror_mode": {
    "name": "ipython",
    "version": 3
   },
   "file_extension": ".py",
   "mimetype": "text/x-python",
   "name": "python",
   "nbconvert_exporter": "python",
   "pygments_lexer": "ipython3",
   "version": "3.9.7"
  }
 },
 "nbformat": 4,
 "nbformat_minor": 5
}
