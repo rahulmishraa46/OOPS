{
 "cells": [
  {
   "cell_type": "markdown",
   "id": "98a3871b",
   "metadata": {},
   "source": [
    "# \n",
    "\n",
    "\n",
    "\n",
    "OOPS(PROGRAMMING)"
   ]
  },
  {
   "cell_type": "markdown",
   "id": "3c001386",
   "metadata": {},
   "source": [
    "# methods (): are the functions that are decalred inside the a class are called as Methods\n",
    "    \n",
    "Attribute: are the initaillition done inside the class (constructor)"
   ]
  },
  {
   "cell_type": "code",
   "execution_count": null,
   "id": "c1efd136",
   "metadata": {},
   "outputs": [],
   "source": [
    "decalartion of the class :"
   ]
  },
  {
   "cell_type": "code",
   "execution_count": 37,
   "id": "fe14add1",
   "metadata": {},
   "outputs": [],
   "source": [
    "class Dog():\n",
    "    ##intiasation of the of the attributes.\n",
    "    def __init__(Self,param1,param2):\n",
    "        Self.param1 = param1\n",
    "        Self.param2 = param2\n",
    "    def SOME_METHOD(self):\n",
    "        #declaration of the method.\n",
    "        print('self.param')"
   ]
  },
  {
   "cell_type": "code",
   "execution_count": 38,
   "id": "aa42a839",
   "metadata": {},
   "outputs": [],
   "source": [
    "dog = Dog('india','gomti ngar')"
   ]
  },
  {
   "cell_type": "code",
   "execution_count": 39,
   "id": "33e24495",
   "metadata": {},
   "outputs": [
    {
     "name": "stdout",
     "output_type": "stream",
     "text": [
      "self.param\n"
     ]
    }
   ],
   "source": [
    "dog.SOME_METHOD()"
   ]
  },
  {
   "cell_type": "code",
   "execution_count": 40,
   "id": "087e5b31",
   "metadata": {},
   "outputs": [
    {
     "data": {
      "text/plain": [
       "'gomti ngar'"
      ]
     },
     "execution_count": 40,
     "metadata": {},
     "output_type": "execute_result"
    }
   ],
   "source": [
    "dog.param2\n"
   ]
  },
  {
   "cell_type": "code",
   "execution_count": 41,
   "id": "717cef1f",
   "metadata": {},
   "outputs": [
    {
     "data": {
      "text/plain": [
       "'india'"
      ]
     },
     "execution_count": 41,
     "metadata": {},
     "output_type": "execute_result"
    }
   ],
   "source": [
    "dog.param1"
   ]
  },
  {
   "cell_type": "code",
   "execution_count": 42,
   "id": "86a440e0",
   "metadata": {},
   "outputs": [],
   "source": [
    "#code :2\n",
    "class Dog():\n",
    "    def __init__(self,breed):\n",
    "        self.breed= breed\n",
    "    "
   ]
  },
  {
   "cell_type": "code",
   "execution_count": 43,
   "id": "60166f09",
   "metadata": {},
   "outputs": [],
   "source": [
    "my_dog=Dog('Pomerian')"
   ]
  },
  {
   "cell_type": "code",
   "execution_count": 44,
   "id": "e06c3e89",
   "metadata": {},
   "outputs": [
    {
     "data": {
      "text/plain": [
       "'Pomerian'"
      ]
     },
     "execution_count": 44,
     "metadata": {},
     "output_type": "execute_result"
    }
   ],
   "source": [
    "my_dog.breed"
   ]
  },
  {
   "cell_type": "code",
   "execution_count": 45,
   "id": "ba19ff9f",
   "metadata": {},
   "outputs": [],
   "source": [
    "my_dog=Dog(breed = 'Indian_Pemrian')"
   ]
  },
  {
   "cell_type": "code",
   "execution_count": 46,
   "id": "f4b983c8",
   "metadata": {},
   "outputs": [
    {
     "data": {
      "text/plain": [
       "'Indian_Pemrian'"
      ]
     },
     "execution_count": 46,
     "metadata": {},
     "output_type": "execute_result"
    }
   ],
   "source": [
    "my_dog.breed\n"
   ]
  },
  {
   "cell_type": "code",
   "execution_count": null,
   "id": "f1349857",
   "metadata": {},
   "outputs": [],
   "source": [
    "Creating a class with  more attributes "
   ]
  },
  {
   "cell_type": "code",
   "execution_count": 47,
   "id": "c1886b5d",
   "metadata": {},
   "outputs": [],
   "source": [
    "class Dog():\n",
    "    def __init__(self,name,breed,spots):\n",
    "        self.name=name\n",
    "        self.breed=breed\n",
    "        self.spots= spots"
   ]
  },
  {
   "cell_type": "code",
   "execution_count": 49,
   "id": "bb04d8b6",
   "metadata": {},
   "outputs": [],
   "source": [
    "my_dog = Dog ('tu','indian',False)\n",
    "\n",
    "##Spots has been entered as boolean "
   ]
  },
  {
   "cell_type": "code",
   "execution_count": 50,
   "id": "70619e26",
   "metadata": {},
   "outputs": [
    {
     "data": {
      "text/plain": [
       "'indian'"
      ]
     },
     "execution_count": 50,
     "metadata": {},
     "output_type": "execute_result"
    }
   ],
   "source": [
    "my_dog.breed"
   ]
  },
  {
   "cell_type": "code",
   "execution_count": 51,
   "id": "bac4623e",
   "metadata": {},
   "outputs": [
    {
     "data": {
      "text/plain": [
       "'tu'"
      ]
     },
     "execution_count": 51,
     "metadata": {},
     "output_type": "execute_result"
    }
   ],
   "source": [
    "my_dog.name"
   ]
  },
  {
   "cell_type": "code",
   "execution_count": 52,
   "id": "bdcf5ed4",
   "metadata": {},
   "outputs": [
    {
     "data": {
      "text/plain": [
       "False"
      ]
     },
     "execution_count": 52,
     "metadata": {},
     "output_type": "execute_result"
    }
   ],
   "source": [
    "my_dog.spots"
   ]
  }
 ],
 "metadata": {
  "kernelspec": {
   "display_name": "Python 3 (ipykernel)",
   "language": "python",
   "name": "python3"
  },
  "language_info": {
   "codemirror_mode": {
    "name": "ipython",
    "version": 3
   },
   "file_extension": ".py",
   "mimetype": "text/x-python",
   "name": "python",
   "nbconvert_exporter": "python",
   "pygments_lexer": "ipython3",
   "version": "3.9.7"
  }
 },
 "nbformat": 4,
 "nbformat_minor": 5
}
