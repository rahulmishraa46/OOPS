{
 "cells": [
  {
   "cell_type": "markdown",
   "id": "95c5b08f",
   "metadata": {},
   "source": [
    "# \n",
    "\n",
    "\n",
    "\n",
    "OOPS(PROGRAMMING)"
   ]
  },
  {
   "cell_type": "markdown",
   "id": "b8e8e677",
   "metadata": {},
   "source": [
    "# methods (): are the functions that are decalred inside the a class are called as Methods\n",
    "    \n",
    "Attribute: are the initaillition done inside the class (constructor)"
   ]
  },
  {
   "cell_type": "code",
   "execution_count": null,
   "id": "de84c933",
   "metadata": {},
   "outputs": [],
   "source": [
    "decalartion of the class :"
   ]
  },
  {
   "cell_type": "code",
   "execution_count": 37,
   "id": "e3493d79",
   "metadata": {},
   "outputs": [],
   "source": [
    "class Dog():\n",
    "    ##intiasation of the of the attributes.\n",
    "    def __init__(Self,param1,param2):\n",
    "        Self.param1 = param1\n",
    "        Self.param2 = param2\n",
    "    def SOME_METHOD(self):\n",
    "        #declaration of the method.\n",
    "        print('self.param')"
   ]
  },
  {
   "cell_type": "code",
   "execution_count": 38,
   "id": "a2334e7a",
   "metadata": {},
   "outputs": [],
   "source": [
    "dog = Dog('india','gomti ngar')"
   ]
  },
  {
   "cell_type": "code",
   "execution_count": 39,
   "id": "d0530682",
   "metadata": {},
   "outputs": [
    {
     "name": "stdout",
     "output_type": "stream",
     "text": [
      "self.param\n"
     ]
    }
   ],
   "source": [
    "dog.SOME_METHOD()"
   ]
  },
  {
   "cell_type": "code",
   "execution_count": 40,
   "id": "60ab4e17",
   "metadata": {},
   "outputs": [
    {
     "data": {
      "text/plain": [
       "'gomti ngar'"
      ]
     },
     "execution_count": 40,
     "metadata": {},
     "output_type": "execute_result"
    }
   ],
   "source": [
    "dog.param2\n"
   ]
  },
  {
   "cell_type": "code",
   "execution_count": 41,
   "id": "cf9842a2",
   "metadata": {},
   "outputs": [
    {
     "data": {
      "text/plain": [
       "'india'"
      ]
     },
     "execution_count": 41,
     "metadata": {},
     "output_type": "execute_result"
    }
   ],
   "source": [
    "dog.param1"
   ]
  },
  {
   "cell_type": "code",
   "execution_count": 42,
   "id": "3581a4f0",
   "metadata": {},
   "outputs": [],
   "source": [
    "#code :2\n",
    "class Dog():\n",
    "    def __init__(self,breed):\n",
    "        self.breed= breed\n",
    "    "
   ]
  },
  {
   "cell_type": "code",
   "execution_count": 43,
   "id": "016712f8",
   "metadata": {},
   "outputs": [],
   "source": [
    "my_dog=Dog('Pomerian')"
   ]
  },
  {
   "cell_type": "code",
   "execution_count": 44,
   "id": "bd495b34",
   "metadata": {},
   "outputs": [
    {
     "data": {
      "text/plain": [
       "'Pomerian'"
      ]
     },
     "execution_count": 44,
     "metadata": {},
     "output_type": "execute_result"
    }
   ],
   "source": [
    "my_dog.breed"
   ]
  },
  {
   "cell_type": "code",
   "execution_count": 45,
   "id": "3e1d36c8",
   "metadata": {},
   "outputs": [],
   "source": [
    "my_dog=Dog(breed = 'Indian_Pemrian')"
   ]
  },
  {
   "cell_type": "code",
   "execution_count": 46,
   "id": "54565107",
   "metadata": {},
   "outputs": [
    {
     "data": {
      "text/plain": [
       "'Indian_Pemrian'"
      ]
     },
     "execution_count": 46,
     "metadata": {},
     "output_type": "execute_result"
    }
   ],
   "source": [
    "my_dog.breed\n"
   ]
  },
  {
   "cell_type": "code",
   "execution_count": null,
   "id": "a48b9b7e",
   "metadata": {},
   "outputs": [],
   "source": [
    "Creating a class with  more attributes "
   ]
  },
  {
   "cell_type": "code",
   "execution_count": 47,
   "id": "e39640b9",
   "metadata": {},
   "outputs": [],
   "source": [
    "class Dog():\n",
    "    def __init__(self,name,breed,spots):\n",
    "        self.name=name\n",
    "        self.breed=breed\n",
    "        self.spots= spots"
   ]
  },
  {
   "cell_type": "code",
   "execution_count": 49,
   "id": "0a52c20d",
   "metadata": {},
   "outputs": [],
   "source": [
    "my_dog = Dog ('tu','indian',False)\n",
    "\n",
    "##Spots has been entered as boolean "
   ]
  },
  {
   "cell_type": "code",
   "execution_count": 50,
   "id": "a20bbb58",
   "metadata": {},
   "outputs": [
    {
     "data": {
      "text/plain": [
       "'indian'"
      ]
     },
     "execution_count": 50,
     "metadata": {},
     "output_type": "execute_result"
    }
   ],
   "source": [
    "my_dog.breed"
   ]
  },
  {
   "cell_type": "code",
   "execution_count": 51,
   "id": "f3aa1300",
   "metadata": {},
   "outputs": [
    {
     "data": {
      "text/plain": [
       "'tu'"
      ]
     },
     "execution_count": 51,
     "metadata": {},
     "output_type": "execute_result"
    }
   ],
   "source": [
    "my_dog.name"
   ]
  },
  {
   "cell_type": "code",
   "execution_count": 52,
   "id": "a1bfb863",
   "metadata": {},
   "outputs": [
    {
     "data": {
      "text/plain": [
       "False"
      ]
     },
     "execution_count": 52,
     "metadata": {},
     "output_type": "execute_result"
    }
   ],
   "source": [
    "my_dog.spots"
   ]
  },
  {
   "cell_type": "code",
   "execution_count": null,
   "id": "09c788a8",
   "metadata": {},
   "outputs": [],
   "source": [
    "defining the class object attributes .\n",
    "\n"
   ]
  },
  {
   "cell_type": "code",
   "execution_count": 55,
   "id": "31320393",
   "metadata": {},
   "outputs": [],
   "source": [
    "class Dog():\n",
    "    specis='Love'\n",
    "    def __init__(self,breed,name,spots):\n",
    "        self.name=name\n",
    "        self.breed=breed\n",
    "        self.spots= spots\n",
    "        "
   ]
  },
  {
   "cell_type": "code",
   "execution_count": 57,
   "id": "74c05fe0",
   "metadata": {},
   "outputs": [],
   "source": [
    "my_dog=Dog('indian','rahul',True)"
   ]
  },
  {
   "cell_type": "code",
   "execution_count": 58,
   "id": "2901ebbc",
   "metadata": {},
   "outputs": [
    {
     "data": {
      "text/plain": [
       "'Love'"
      ]
     },
     "execution_count": 58,
     "metadata": {},
     "output_type": "execute_result"
    }
   ],
   "source": [
    "my_dog.specis"
   ]
  },
  {
   "cell_type": "code",
   "execution_count": null,
   "id": "682df53f",
   "metadata": {},
   "outputs": [],
   "source": [
    "#defining the methods in the class ."
   ]
  },
  {
   "cell_type": "code",
   "execution_count": 59,
   "id": "9e7cc938",
   "metadata": {},
   "outputs": [],
   "source": [
    "class Dog():\n",
    "    specis='Love'\n",
    "    def __init__(self,breed,name,spots):\n",
    "        self.name=name\n",
    "        self.breed=breed\n",
    "        self.spots= spots\n",
    "        \n",
    "    def some_methods(self):\n",
    "        print(f'woof{self.name}')"
   ]
  },
  {
   "cell_type": "code",
   "execution_count": 60,
   "id": "b4511bab",
   "metadata": {},
   "outputs": [],
   "source": [
    "my_dog=Dog('indian','rahul',True)"
   ]
  },
  {
   "cell_type": "code",
   "execution_count": 62,
   "id": "a2730f83",
   "metadata": {},
   "outputs": [
    {
     "name": "stdout",
     "output_type": "stream",
     "text": [
      "woofrahul\n"
     ]
    }
   ],
   "source": [
    "my_dog.some_methods()"
   ]
  },
  {
   "cell_type": "code",
   "execution_count": null,
   "id": "7b747851",
   "metadata": {},
   "outputs": [],
   "source": []
  },
  {
   "cell_type": "code",
   "execution_count": null,
   "id": "58b741c0",
   "metadata": {},
   "outputs": [],
   "source": []
  }
 ],
 "metadata": {
  "kernelspec": {
   "display_name": "Python 3 (ipykernel)",
   "language": "python",
   "name": "python3"
  },
  "language_info": {
   "codemirror_mode": {
    "name": "ipython",
    "version": 3
   },
   "file_extension": ".py",
   "mimetype": "text/x-python",
   "name": "python",
   "nbconvert_exporter": "python",
   "pygments_lexer": "ipython3",
   "version": "3.9.7"
  }
 },
 "nbformat": 4,
 "nbformat_minor": 5
}
