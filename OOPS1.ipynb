{
 "cells": [
  {
   "cell_type": "markdown",
   "id": "9eccf815",
   "metadata": {},
   "source": [
    "# \n",
    "\n",
    "\n",
    "\n",
    "OOPS(PROGRAMMING)"
   ]
  },
  {
   "cell_type": "markdown",
   "id": "0bef810b",
   "metadata": {},
   "source": [
    "# methods (): are the functions that are decalred inside the a class are called as Methods\n",
    "    \n",
    "Attribute: are the initaillition done inside the class (constructor)"
   ]
  },
  {
   "cell_type": "code",
   "execution_count": null,
   "id": "5174c297",
   "metadata": {},
   "outputs": [],
   "source": [
    "decalartion of the class :"
   ]
  },
  {
   "cell_type": "code",
   "execution_count": 37,
   "id": "22a5c2b1",
   "metadata": {},
   "outputs": [],
   "source": [
    "class Dog():\n",
    "    ##intiasation of the of the attributes.\n",
    "    def __init__(Self,param1,param2):\n",
    "        Self.param1 = param1\n",
    "        Self.param2 = param2\n",
    "    def SOME_METHOD(self):\n",
    "        #declaration of the method.\n",
    "        print('self.param')"
   ]
  },
  {
   "cell_type": "code",
   "execution_count": 38,
   "id": "f9c0fdea",
   "metadata": {},
   "outputs": [],
   "source": [
    "dog = Dog('india','gomti ngar')"
   ]
  },
  {
   "cell_type": "code",
   "execution_count": 39,
   "id": "6ab3b47e",
   "metadata": {},
   "outputs": [
    {
     "name": "stdout",
     "output_type": "stream",
     "text": [
      "self.param\n"
     ]
    }
   ],
   "source": [
    "dog.SOME_METHOD()"
   ]
  },
  {
   "cell_type": "code",
   "execution_count": 40,
   "id": "d02353c4",
   "metadata": {},
   "outputs": [
    {
     "data": {
      "text/plain": [
       "'gomti ngar'"
      ]
     },
     "execution_count": 40,
     "metadata": {},
     "output_type": "execute_result"
    }
   ],
   "source": [
    "dog.param2\n"
   ]
  },
  {
   "cell_type": "code",
   "execution_count": 41,
   "id": "754029d2",
   "metadata": {},
   "outputs": [
    {
     "data": {
      "text/plain": [
       "'india'"
      ]
     },
     "execution_count": 41,
     "metadata": {},
     "output_type": "execute_result"
    }
   ],
   "source": [
    "dog.param1"
   ]
  },
  {
   "cell_type": "code",
   "execution_count": 42,
   "id": "f252e1cb",
   "metadata": {},
   "outputs": [],
   "source": [
    "#code :2\n",
    "class Dog():\n",
    "    def __init__(self,breed):\n",
    "        self.breed= breed\n",
    "    "
   ]
  },
  {
   "cell_type": "code",
   "execution_count": 43,
   "id": "90bdb616",
   "metadata": {},
   "outputs": [],
   "source": [
    "my_dog=Dog('Pomerian')"
   ]
  },
  {
   "cell_type": "code",
   "execution_count": 44,
   "id": "af5c0f41",
   "metadata": {},
   "outputs": [
    {
     "data": {
      "text/plain": [
       "'Pomerian'"
      ]
     },
     "execution_count": 44,
     "metadata": {},
     "output_type": "execute_result"
    }
   ],
   "source": [
    "my_dog.breed"
   ]
  },
  {
   "cell_type": "code",
   "execution_count": 45,
   "id": "1c791eff",
   "metadata": {},
   "outputs": [],
   "source": [
    "my_dog=Dog(breed = 'Indian_Pemrian')"
   ]
  },
  {
   "cell_type": "code",
   "execution_count": 46,
   "id": "255873db",
   "metadata": {},
   "outputs": [
    {
     "data": {
      "text/plain": [
       "'Indian_Pemrian'"
      ]
     },
     "execution_count": 46,
     "metadata": {},
     "output_type": "execute_result"
    }
   ],
   "source": [
    "my_dog.breed\n"
   ]
  },
  {
   "cell_type": "code",
   "execution_count": null,
   "id": "9b791c53",
   "metadata": {},
   "outputs": [],
   "source": [
    "Creating a class with  more attributes "
   ]
  },
  {
   "cell_type": "code",
   "execution_count": 47,
   "id": "a64560c9",
   "metadata": {},
   "outputs": [],
   "source": [
    "class Dog():\n",
    "    def __init__(self,name,breed,spots):\n",
    "        self.name=name\n",
    "        self.breed=breed\n",
    "        self.spots= spots"
   ]
  },
  {
   "cell_type": "code",
   "execution_count": 49,
   "id": "f2af877a",
   "metadata": {},
   "outputs": [],
   "source": [
    "my_dog = Dog ('tu','indian',False)\n",
    "\n",
    "##Spots has been entered as boolean "
   ]
  },
  {
   "cell_type": "code",
   "execution_count": 50,
   "id": "90593585",
   "metadata": {},
   "outputs": [
    {
     "data": {
      "text/plain": [
       "'indian'"
      ]
     },
     "execution_count": 50,
     "metadata": {},
     "output_type": "execute_result"
    }
   ],
   "source": [
    "my_dog.breed"
   ]
  },
  {
   "cell_type": "code",
   "execution_count": 51,
   "id": "36c221db",
   "metadata": {},
   "outputs": [
    {
     "data": {
      "text/plain": [
       "'tu'"
      ]
     },
     "execution_count": 51,
     "metadata": {},
     "output_type": "execute_result"
    }
   ],
   "source": [
    "my_dog.name"
   ]
  },
  {
   "cell_type": "code",
   "execution_count": 52,
   "id": "5aa85818",
   "metadata": {},
   "outputs": [
    {
     "data": {
      "text/plain": [
       "False"
      ]
     },
     "execution_count": 52,
     "metadata": {},
     "output_type": "execute_result"
    }
   ],
   "source": [
    "my_dog.spots"
   ]
  },
  {
   "cell_type": "code",
   "execution_count": null,
   "id": "4e534f1e",
   "metadata": {},
   "outputs": [],
   "source": [
    "defining the class object attributes .\n",
    "\n"
   ]
  },
  {
   "cell_type": "code",
   "execution_count": 55,
   "id": "1cfc3424",
   "metadata": {},
   "outputs": [],
   "source": [
    "class Dog():\n",
    "    specis='Love'\n",
    "    def __init__(self,breed,name,spots):\n",
    "        self.name=name\n",
    "        self.breed=breed\n",
    "        self.spots= spots\n",
    "        "
   ]
  },
  {
   "cell_type": "code",
   "execution_count": 57,
   "id": "ede39917",
   "metadata": {},
   "outputs": [],
   "source": [
    "my_dog=Dog('indian','rahul',True)"
   ]
  },
  {
   "cell_type": "code",
   "execution_count": 58,
   "id": "4e5eebe8",
   "metadata": {},
   "outputs": [
    {
     "data": {
      "text/plain": [
       "'Love'"
      ]
     },
     "execution_count": 58,
     "metadata": {},
     "output_type": "execute_result"
    }
   ],
   "source": [
    "my_dog.specis"
   ]
  },
  {
   "cell_type": "code",
   "execution_count": null,
   "id": "d4dc1f06",
   "metadata": {},
   "outputs": [],
   "source": [
    "#defining the methods in the class ."
   ]
  },
  {
   "cell_type": "code",
   "execution_count": 59,
   "id": "4ceaec7a",
   "metadata": {},
   "outputs": [],
   "source": [
    "class Dog():\n",
    "    specis='Love'\n",
    "    def __init__(self,breed,name,spots):\n",
    "        self.name=name\n",
    "        self.breed=breed\n",
    "        self.spots= spots\n",
    "        \n",
    "    def some_methods(self):\n",
    "        print(f'woof{self.name}')"
   ]
  },
  {
   "cell_type": "code",
   "execution_count": 60,
   "id": "084b9c7a",
   "metadata": {},
   "outputs": [],
   "source": [
    "my_dog=Dog('indian','rahul',True)"
   ]
  },
  {
   "cell_type": "code",
   "execution_count": 62,
   "id": "4ae69a3d",
   "metadata": {},
   "outputs": [
    {
     "name": "stdout",
     "output_type": "stream",
     "text": [
      "woofrahul\n"
     ]
    }
   ],
   "source": [
    "my_dog.some_methods()"
   ]
  },
  {
   "cell_type": "code",
   "execution_count": null,
   "id": "289e0146",
   "metadata": {},
   "outputs": [],
   "source": [
    "create another function "
   ]
  },
  {
   "cell_type": "code",
   "execution_count": 65,
   "id": "9bd4990e",
   "metadata": {},
   "outputs": [],
   "source": [
    "class Dog():\n",
    "    specis='Love'\n",
    "    def __init__(self,breed,name,spots):\n",
    "        self.name=name\n",
    "        self.breed=breed\n",
    "        self.spots= spots\n",
    "        \n",
    "    def some_methods(self):\n",
    "        print(f'woof{self.name}')\n",
    "        \n",
    "    def woof(self):\n",
    "        ##Another way of printing and calling the attibutes\n",
    "        print('woof,my name is {}'.format(self.name))"
   ]
  },
  {
   "cell_type": "code",
   "execution_count": 66,
   "id": "b90f67bb",
   "metadata": {},
   "outputs": [],
   "source": [
    "my_dog=Dog('indian','desi',True)"
   ]
  },
  {
   "cell_type": "code",
   "execution_count": 68,
   "id": "76ae5e4b",
   "metadata": {},
   "outputs": [
    {
     "name": "stdout",
     "output_type": "stream",
     "text": [
      "woof,my name is desi\n"
     ]
    }
   ],
   "source": [
    "my_dog.woof()"
   ]
  },
  {
   "cell_type": "code",
   "execution_count": null,
   "id": "31db3c38",
   "metadata": {},
   "outputs": [],
   "source": []
  },
  {
   "cell_type": "code",
   "execution_count": null,
   "id": "7c3597b0",
   "metadata": {},
   "outputs": [],
   "source": []
  }
 ],
 "metadata": {
  "kernelspec": {
   "display_name": "Python 3 (ipykernel)",
   "language": "python",
   "name": "python3"
  },
  "language_info": {
   "codemirror_mode": {
    "name": "ipython",
    "version": 3
   },
   "file_extension": ".py",
   "mimetype": "text/x-python",
   "name": "python",
   "nbconvert_exporter": "python",
   "pygments_lexer": "ipython3",
   "version": "3.9.7"
  }
 },
 "nbformat": 4,
 "nbformat_minor": 5
}
