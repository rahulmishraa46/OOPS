{
 "cells": [
  {
   "cell_type": "markdown",
   "id": "e7e2d7ce",
   "metadata": {},
   "source": [
    "# #\n",
    "\n",
    "\n"
   ]
  },
  {
   "cell_type": "markdown",
   "id": "33656481",
   "metadata": {},
   "source": [
    "# methods (): are the functions that are decalred inside the a class are called as Methods\n",
    "    \n",
    "#Attribute: are the initaillition done inside the class (constructor)"
   ]
  },
  {
   "cell_type": "code",
   "execution_count": null,
   "id": "094ceb28",
   "metadata": {},
   "outputs": [],
   "source": [
    "##decalartion of the class :"
   ]
  },
  {
   "cell_type": "code",
   "execution_count": 37,
   "id": "f3757eef",
   "metadata": {},
   "outputs": [],
   "source": [
    "class Dog():\n",
    "    ##intiasation of the of the attributes.\n",
    "    def __init__(Self,param1,param2):\n",
    "        Self.param1 = param1\n",
    "        Self.param2 = param2\n",
    "    def SOME_METHOD(self):\n",
    "        #declaration of the method.\n",
    "        print('self.param')"
   ]
  },
  {
   "cell_type": "code",
   "execution_count": 38,
   "id": "239ef97a",
   "metadata": {},
   "outputs": [],
   "source": [
    "dog = Dog('india','gomti ngar')"
   ]
  },
  {
   "cell_type": "code",
   "execution_count": 39,
   "id": "de8dc9d9",
   "metadata": {},
   "outputs": [
    {
     "name": "stdout",
     "output_type": "stream",
     "text": [
      "self.param\n"
     ]
    }
   ],
   "source": [
    "dog.SOME_METHOD()"
   ]
  },
  {
   "cell_type": "code",
   "execution_count": 40,
   "id": "65a84f1e",
   "metadata": {},
   "outputs": [
    {
     "data": {
      "text/plain": [
       "'gomti ngar'"
      ]
     },
     "execution_count": 40,
     "metadata": {},
     "output_type": "execute_result"
    }
   ],
   "source": [
    "dog.param2\n"
   ]
  },
  {
   "cell_type": "code",
   "execution_count": 41,
   "id": "5c877d44",
   "metadata": {},
   "outputs": [
    {
     "data": {
      "text/plain": [
       "'india'"
      ]
     },
     "execution_count": 41,
     "metadata": {},
     "output_type": "execute_result"
    }
   ],
   "source": [
    "dog.param1"
   ]
  },
  {
   "cell_type": "code",
   "execution_count": 42,
   "id": "1e717368",
   "metadata": {},
   "outputs": [],
   "source": [
    "#code :2\n",
    "class Dog():\n",
    "    def __init__(self,breed):\n",
    "        self.breed= breed\n",
    "    "
   ]
  },
  {
   "cell_type": "code",
   "execution_count": 43,
   "id": "d822bb11",
   "metadata": {},
   "outputs": [],
   "source": [
    "my_dog=Dog('Pomerian')"
   ]
  },
  {
   "cell_type": "code",
   "execution_count": 44,
   "id": "c16cfc46",
   "metadata": {},
   "outputs": [
    {
     "data": {
      "text/plain": [
       "'Pomerian'"
      ]
     },
     "execution_count": 44,
     "metadata": {},
     "output_type": "execute_result"
    }
   ],
   "source": [
    "my_dog.breed"
   ]
  },
  {
   "cell_type": "code",
   "execution_count": 45,
   "id": "e10dc583",
   "metadata": {},
   "outputs": [],
   "source": [
    "my_dog=Dog(breed = 'Indian_Pemrian')"
   ]
  },
  {
   "cell_type": "code",
   "execution_count": 46,
   "id": "45e8b9ba",
   "metadata": {},
   "outputs": [
    {
     "data": {
      "text/plain": [
       "'Indian_Pemrian'"
      ]
     },
     "execution_count": 46,
     "metadata": {},
     "output_type": "execute_result"
    }
   ],
   "source": [
    "my_dog.breed\n"
   ]
  },
  {
   "cell_type": "code",
   "execution_count": null,
   "id": "260269cd",
   "metadata": {},
   "outputs": [],
   "source": [
    "Creating a class with  more attributes "
   ]
  },
  {
   "cell_type": "code",
   "execution_count": 47,
   "id": "21f1578e",
   "metadata": {},
   "outputs": [],
   "source": [
    "class Dog():\n",
    "    def __init__(self,name,breed,spots):\n",
    "        self.name=name\n",
    "        self.breed=breed\n",
    "        self.spots= spots"
   ]
  },
  {
   "cell_type": "code",
   "execution_count": 49,
   "id": "18f92280",
   "metadata": {},
   "outputs": [],
   "source": [
    "my_dog = Dog ('tu','indian',False)\n",
    "\n",
    "##Spots has been entered as boolean "
   ]
  },
  {
   "cell_type": "code",
   "execution_count": 50,
   "id": "27af6414",
   "metadata": {},
   "outputs": [
    {
     "data": {
      "text/plain": [
       "'indian'"
      ]
     },
     "execution_count": 50,
     "metadata": {},
     "output_type": "execute_result"
    }
   ],
   "source": [
    "my_dog.breed"
   ]
  },
  {
   "cell_type": "code",
   "execution_count": 51,
   "id": "2948e7a9",
   "metadata": {},
   "outputs": [
    {
     "data": {
      "text/plain": [
       "'tu'"
      ]
     },
     "execution_count": 51,
     "metadata": {},
     "output_type": "execute_result"
    }
   ],
   "source": [
    "my_dog.name"
   ]
  },
  {
   "cell_type": "code",
   "execution_count": 52,
   "id": "970c8c1a",
   "metadata": {},
   "outputs": [
    {
     "data": {
      "text/plain": [
       "False"
      ]
     },
     "execution_count": 52,
     "metadata": {},
     "output_type": "execute_result"
    }
   ],
   "source": [
    "my_dog.spots"
   ]
  },
  {
   "cell_type": "code",
   "execution_count": null,
   "id": "323d9358",
   "metadata": {},
   "outputs": [],
   "source": [
    "defining the class object attributes .\n",
    "\n"
   ]
  },
  {
   "cell_type": "code",
   "execution_count": 55,
   "id": "cb0f7b1f",
   "metadata": {},
   "outputs": [],
   "source": [
    "class Dog():\n",
    "    specis='Love'\n",
    "    def __init__(self,breed,name,spots):\n",
    "        self.name=name\n",
    "        self.breed=breed\n",
    "        self.spots= spots\n",
    "        "
   ]
  },
  {
   "cell_type": "code",
   "execution_count": 57,
   "id": "3cec6c68",
   "metadata": {},
   "outputs": [],
   "source": [
    "my_dog=Dog('indian','rahul',True)"
   ]
  },
  {
   "cell_type": "code",
   "execution_count": 58,
   "id": "d0fdd8c4",
   "metadata": {},
   "outputs": [
    {
     "data": {
      "text/plain": [
       "'Love'"
      ]
     },
     "execution_count": 58,
     "metadata": {},
     "output_type": "execute_result"
    }
   ],
   "source": [
    "my_dog.specis"
   ]
  },
  {
   "cell_type": "code",
   "execution_count": null,
   "id": "cc62df69",
   "metadata": {},
   "outputs": [],
   "source": [
    "#defining the methods in the class ."
   ]
  },
  {
   "cell_type": "code",
   "execution_count": 59,
   "id": "44022d6c",
   "metadata": {},
   "outputs": [],
   "source": [
    "class Dog():\n",
    "    specis='Love'\n",
    "    def __init__(self,breed,name,spots):\n",
    "        self.name=name\n",
    "        self.breed=breed\n",
    "        self.spots= spots\n",
    "        \n",
    "    def some_methods(self):\n",
    "        print(f'woof{self.name}')"
   ]
  },
  {
   "cell_type": "code",
   "execution_count": 60,
   "id": "4ccce3d1",
   "metadata": {},
   "outputs": [],
   "source": [
    "my_dog=Dog('indian','rahul',True)"
   ]
  },
  {
   "cell_type": "code",
   "execution_count": 62,
   "id": "32869d9b",
   "metadata": {},
   "outputs": [
    {
     "name": "stdout",
     "output_type": "stream",
     "text": [
      "woofrahul\n"
     ]
    }
   ],
   "source": [
    "my_dog.some_methods()"
   ]
  },
  {
   "cell_type": "code",
   "execution_count": null,
   "id": "b812cf5c",
   "metadata": {},
   "outputs": [],
   "source": [
    "create another function "
   ]
  },
  {
   "cell_type": "code",
   "execution_count": 65,
   "id": "3c982e55",
   "metadata": {},
   "outputs": [],
   "source": [
    "class Dog():\n",
    "    specis='Love'\n",
    "    def __init__(self,breed,name,spots):\n",
    "        self.name=name\n",
    "        self.breed=breed\n",
    "        self.spots= spots\n",
    "        \n",
    "    def some_methods(self):\n",
    "        print(f'woof{self.name}')\n",
    "        \n",
    "    def woof(self):\n",
    "        ##Another way of printing and calling the attibutes\n",
    "        print('woof,my name is {}'.format(self.name))"
   ]
  },
  {
   "cell_type": "code",
   "execution_count": 66,
   "id": "93111bb9",
   "metadata": {},
   "outputs": [],
   "source": [
    "my_dog=Dog('indian','desi',True)"
   ]
  },
  {
   "cell_type": "code",
   "execution_count": 68,
   "id": "fc7d021d",
   "metadata": {},
   "outputs": [
    {
     "name": "stdout",
     "output_type": "stream",
     "text": [
      "woof,my name is desi\n"
     ]
    }
   ],
   "source": [
    "my_dog.woof()"
   ]
  },
  {
   "cell_type": "code",
   "execution_count": null,
   "id": "48a9c802",
   "metadata": {},
   "outputs": [],
   "source": [
    "##program to program to print the CIRCUMFERENCE OF THE CIRCLE"
   ]
  },
  {
   "cell_type": "code",
   "execution_count": 73,
   "id": "4cb5f49d",
   "metadata": {},
   "outputs": [],
   "source": [
    "class circle():\n",
    "    Pi=3.14\n",
    "    def __init__(self,radius):\n",
    "        self.radius=radius\n",
    "        \n",
    "    def Circumference(self):\n",
    "        return int(self.radius *2*circle.Pi)"
   ]
  },
  {
   "cell_type": "code",
   "execution_count": 74,
   "id": "2e850e7d",
   "metadata": {},
   "outputs": [],
   "source": [
    "circle_ =circle(43.2)"
   ]
  },
  {
   "cell_type": "code",
   "execution_count": 75,
   "id": "8e058709",
   "metadata": {},
   "outputs": [
    {
     "data": {
      "text/plain": [
       "271"
      ]
     },
     "execution_count": 75,
     "metadata": {},
     "output_type": "execute_result"
    }
   ],
   "source": [
    "circle_.Circumference()"
   ]
  },
  {
   "cell_type": "code",
   "execution_count": null,
   "id": "4d9b0800",
   "metadata": {},
   "outputs": [],
   "source": [
    "##program to program to print the Area OF THE CIRCLE"
   ]
  },
  {
   "cell_type": "code",
   "execution_count": 76,
   "id": "80fd62f1",
   "metadata": {},
   "outputs": [],
   "source": [
    "class circle():\n",
    "    Pi=3.14\n",
    "    def __init__(self,radius):\n",
    "        self.radius=radius\n",
    "        \n",
    "    def Area(self):\n",
    "        return int(circle.Pi*self.radius **2)"
   ]
  },
  {
   "cell_type": "code",
   "execution_count": 77,
   "id": "6961edf7",
   "metadata": {},
   "outputs": [],
   "source": [
    "circle1=circle(34)"
   ]
  },
  {
   "cell_type": "code",
   "execution_count": 78,
   "id": "29023fa6",
   "metadata": {},
   "outputs": [
    {
     "data": {
      "text/plain": [
       "3629"
      ]
     },
     "execution_count": 78,
     "metadata": {},
     "output_type": "execute_result"
    }
   ],
   "source": [
    "circle1.Area()"
   ]
  },
  {
   "cell_type": "code",
   "execution_count": null,
   "id": "dbd28b03",
   "metadata": {},
   "outputs": [],
   "source": [
    "#Another method for the insitalisation"
   ]
  },
  {
   "cell_type": "code",
   "execution_count": 79,
   "id": "8680fc2c",
   "metadata": {},
   "outputs": [],
   "source": [
    "class circle():\n",
    "    Pi=3.14\n",
    "    def __init__(self,radius):\n",
    "        self.radius=radius\n",
    "        self.area=circle.Pi*self.radius **2\n",
    "        \n"
   ]
  },
  {
   "cell_type": "code",
   "execution_count": 80,
   "id": "9aebc230",
   "metadata": {},
   "outputs": [],
   "source": [
    "mycircle_=circle(23)"
   ]
  },
  {
   "cell_type": "code",
   "execution_count": 81,
   "id": "2155a13e",
   "metadata": {},
   "outputs": [
    {
     "data": {
      "text/plain": [
       "1661.0600000000002"
      ]
     },
     "execution_count": 81,
     "metadata": {},
     "output_type": "execute_result"
    }
   ],
   "source": [
    "mycircle_.area"
   ]
  },
  {
   "cell_type": "code",
   "execution_count": null,
   "id": "865aa3e7",
   "metadata": {},
   "outputs": [],
   "source": [
    "INHERITANCE IN OOPS"
   ]
  },
  {
   "cell_type": "code",
   "execution_count": 103,
   "id": "8cf0c568",
   "metadata": {},
   "outputs": [],
   "source": [
    "class Animal():\n",
    "    def __init__(self):\n",
    "        print('animal_Ceated')\n",
    "    def who_m_i(self):\n",
    "        print('i am animal')\n",
    "    def what_i_do(self):\n",
    "        print('i love eating')"
   ]
  },
  {
   "cell_type": "code",
   "execution_count": 104,
   "id": "565854f6",
   "metadata": {},
   "outputs": [],
   "source": [
    "class dog(Animal):\n",
    "    def __init__(self,name):\n",
    "           Animal.__init__(self)\n",
    "           print('dog created')"
   ]
  },
  {
   "cell_type": "code",
   "execution_count": 105,
   "id": "3f364984",
   "metadata": {},
   "outputs": [
    {
     "name": "stdout",
     "output_type": "stream",
     "text": [
      "animal_Ceated\n",
      "dog created\n"
     ]
    }
   ],
   "source": [
    "my_1=dog('i')"
   ]
  },
  {
   "cell_type": "code",
   "execution_count": 114,
   "id": "1f877bde",
   "metadata": {},
   "outputs": [],
   "source": [
    "class Animal():\n",
    "    def __init__(self):\n",
    "        self.name=name\n",
    "    def who_m_i(self):\n",
    "        print('i am animal')\n",
    "    def what_i_do(self):\n",
    "        print('i love eating')"
   ]
  },
  {
   "cell_type": "code",
   "execution_count": 118,
   "id": "5a5b8b31",
   "metadata": {},
   "outputs": [],
   "source": [
    "class dog(Animal):\n",
    "    def __init__(self):\n",
    "           Animal.__init__(self)\n",
    "           print('dog created')"
   ]
  },
  {
   "cell_type": "code",
   "execution_count": 120,
   "id": "1e86a934",
   "metadata": {
    "scrolled": true
   },
   "outputs": [
    {
     "ename": "TypeError",
     "evalue": "__init__() takes 1 positional argument but 2 were given",
     "output_type": "error",
     "traceback": [
      "\u001b[1;31m---------------------------------------------------------------------------\u001b[0m",
      "\u001b[1;31mTypeError\u001b[0m                                 Traceback (most recent call last)",
      "\u001b[1;32m~\\AppData\\Local\\Temp/ipykernel_17112/2075801979.py\u001b[0m in \u001b[0;36m<module>\u001b[1;34m\u001b[0m\n\u001b[1;32m----> 1\u001b[1;33m \u001b[0mmy2\u001b[0m\u001b[1;33m=\u001b[0m\u001b[0mdog\u001b[0m\u001b[1;33m(\u001b[0m\u001b[1;34m'ini'\u001b[0m\u001b[1;33m)\u001b[0m\u001b[1;33m\u001b[0m\u001b[1;33m\u001b[0m\u001b[0m\n\u001b[0m",
      "\u001b[1;31mTypeError\u001b[0m: __init__() takes 1 positional argument but 2 were given"
     ]
    }
   ],
   "source": [
    "my2=dog('ini')"
   ]
  },
  {
   "cell_type": "code",
   "execution_count": null,
   "id": "d1f60d5f",
   "metadata": {},
   "outputs": [],
   "source": []
  },
  {
   "cell_type": "code",
   "execution_count": null,
   "id": "5b602863",
   "metadata": {},
   "outputs": [],
   "source": []
  }
 ],
 "metadata": {
  "kernelspec": {
   "display_name": "Python 3 (ipykernel)",
   "language": "python",
   "name": "python3"
  },
  "language_info": {
   "codemirror_mode": {
    "name": "ipython",
    "version": 3
   },
   "file_extension": ".py",
   "mimetype": "text/x-python",
   "name": "python",
   "nbconvert_exporter": "python",
   "pygments_lexer": "ipython3",
   "version": "3.9.7"
  }
 },
 "nbformat": 4,
 "nbformat_minor": 5
}
