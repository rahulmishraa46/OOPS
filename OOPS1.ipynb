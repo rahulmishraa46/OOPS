{
 "cells": [
  {
   "cell_type": "markdown",
   "id": "fcd06394",
   "metadata": {},
   "source": [
    "# \n",
    "\n",
    "\n",
    "\n",
    "OOPS(PROGRAMMING)"
   ]
  },
  {
   "cell_type": "markdown",
   "id": "2844f976",
   "metadata": {},
   "source": [
    "# methods (): are the functions that are decalred inside the a class are called as Methods\n",
    "    \n",
    "Attribute: are the initaillition done inside the class (constructor)"
   ]
  },
  {
   "cell_type": "code",
   "execution_count": null,
   "id": "8c8e0dbc",
   "metadata": {},
   "outputs": [],
   "source": [
    "decalartion of the class :"
   ]
  },
  {
   "cell_type": "code",
   "execution_count": 37,
   "id": "ddc4b38c",
   "metadata": {},
   "outputs": [],
   "source": [
    "class Dog():\n",
    "    ##intiasation of the of the attributes.\n",
    "    def __init__(Self,param1,param2):\n",
    "        Self.param1 = param1\n",
    "        Self.param2 = param2\n",
    "    def SOME_METHOD(self):\n",
    "        #declaration of the method.\n",
    "        print('self.param')"
   ]
  },
  {
   "cell_type": "code",
   "execution_count": 38,
   "id": "948a8837",
   "metadata": {},
   "outputs": [],
   "source": [
    "dog = Dog('india','gomti ngar')"
   ]
  },
  {
   "cell_type": "code",
   "execution_count": 39,
   "id": "4873d5ce",
   "metadata": {},
   "outputs": [
    {
     "name": "stdout",
     "output_type": "stream",
     "text": [
      "self.param\n"
     ]
    }
   ],
   "source": [
    "dog.SOME_METHOD()"
   ]
  },
  {
   "cell_type": "code",
   "execution_count": 40,
   "id": "a8d7a0c3",
   "metadata": {},
   "outputs": [
    {
     "data": {
      "text/plain": [
       "'gomti ngar'"
      ]
     },
     "execution_count": 40,
     "metadata": {},
     "output_type": "execute_result"
    }
   ],
   "source": [
    "dog.param2\n"
   ]
  },
  {
   "cell_type": "code",
   "execution_count": 41,
   "id": "1293ab27",
   "metadata": {},
   "outputs": [
    {
     "data": {
      "text/plain": [
       "'india'"
      ]
     },
     "execution_count": 41,
     "metadata": {},
     "output_type": "execute_result"
    }
   ],
   "source": [
    "dog.param1"
   ]
  },
  {
   "cell_type": "code",
   "execution_count": 42,
   "id": "3c7f096c",
   "metadata": {},
   "outputs": [],
   "source": [
    "#code :2\n",
    "class Dog():\n",
    "    def __init__(self,breed):\n",
    "        self.breed= breed\n",
    "    "
   ]
  },
  {
   "cell_type": "code",
   "execution_count": 43,
   "id": "0a1ca5e7",
   "metadata": {},
   "outputs": [],
   "source": [
    "my_dog=Dog('Pomerian')"
   ]
  },
  {
   "cell_type": "code",
   "execution_count": 44,
   "id": "91c15f31",
   "metadata": {},
   "outputs": [
    {
     "data": {
      "text/plain": [
       "'Pomerian'"
      ]
     },
     "execution_count": 44,
     "metadata": {},
     "output_type": "execute_result"
    }
   ],
   "source": [
    "my_dog.breed"
   ]
  },
  {
   "cell_type": "code",
   "execution_count": 45,
   "id": "6a71e69a",
   "metadata": {},
   "outputs": [],
   "source": [
    "my_dog=Dog(breed = 'Indian_Pemrian')"
   ]
  },
  {
   "cell_type": "code",
   "execution_count": 46,
   "id": "6173f55a",
   "metadata": {},
   "outputs": [
    {
     "data": {
      "text/plain": [
       "'Indian_Pemrian'"
      ]
     },
     "execution_count": 46,
     "metadata": {},
     "output_type": "execute_result"
    }
   ],
   "source": [
    "my_dog.breed\n"
   ]
  },
  {
   "cell_type": "code",
   "execution_count": null,
   "id": "627d2114",
   "metadata": {},
   "outputs": [],
   "source": [
    "Creating a class with  more attributes "
   ]
  },
  {
   "cell_type": "code",
   "execution_count": 47,
   "id": "be8abf0d",
   "metadata": {},
   "outputs": [],
   "source": [
    "class Dog():\n",
    "    def __init__(self,name,breed,spots):\n",
    "        self.name=name\n",
    "        self.breed=breed\n",
    "        self.spots= spots"
   ]
  },
  {
   "cell_type": "code",
   "execution_count": 49,
   "id": "5841adc2",
   "metadata": {},
   "outputs": [],
   "source": [
    "my_dog = Dog ('tu','indian',False)\n",
    "\n",
    "##Spots has been entered as boolean "
   ]
  },
  {
   "cell_type": "code",
   "execution_count": 50,
   "id": "2d570cc4",
   "metadata": {},
   "outputs": [
    {
     "data": {
      "text/plain": [
       "'indian'"
      ]
     },
     "execution_count": 50,
     "metadata": {},
     "output_type": "execute_result"
    }
   ],
   "source": [
    "my_dog.breed"
   ]
  },
  {
   "cell_type": "code",
   "execution_count": 51,
   "id": "d40f8418",
   "metadata": {},
   "outputs": [
    {
     "data": {
      "text/plain": [
       "'tu'"
      ]
     },
     "execution_count": 51,
     "metadata": {},
     "output_type": "execute_result"
    }
   ],
   "source": [
    "my_dog.name"
   ]
  },
  {
   "cell_type": "code",
   "execution_count": 52,
   "id": "dedc8eb7",
   "metadata": {},
   "outputs": [
    {
     "data": {
      "text/plain": [
       "False"
      ]
     },
     "execution_count": 52,
     "metadata": {},
     "output_type": "execute_result"
    }
   ],
   "source": [
    "my_dog.spots"
   ]
  },
  {
   "cell_type": "code",
   "execution_count": null,
   "id": "9fb6bc2d",
   "metadata": {},
   "outputs": [],
   "source": [
    "defining the class object attributes .\n",
    "\n"
   ]
  },
  {
   "cell_type": "code",
   "execution_count": 55,
   "id": "47a5f29c",
   "metadata": {},
   "outputs": [],
   "source": [
    "class Dog():\n",
    "    specis='Love'\n",
    "    def __init__(self,breed,name,spots):\n",
    "        self.name=name\n",
    "        self.breed=breed\n",
    "        self.spots= spots\n",
    "        "
   ]
  },
  {
   "cell_type": "code",
   "execution_count": 57,
   "id": "fe119c02",
   "metadata": {},
   "outputs": [],
   "source": [
    "my_dog=Dog('indian','rahul',True)"
   ]
  },
  {
   "cell_type": "code",
   "execution_count": 58,
   "id": "ae90e19f",
   "metadata": {},
   "outputs": [
    {
     "data": {
      "text/plain": [
       "'Love'"
      ]
     },
     "execution_count": 58,
     "metadata": {},
     "output_type": "execute_result"
    }
   ],
   "source": [
    "my_dog.specis"
   ]
  },
  {
   "cell_type": "code",
   "execution_count": null,
   "id": "0e0eac57",
   "metadata": {},
   "outputs": [],
   "source": [
    "#defining the methods in the class ."
   ]
  },
  {
   "cell_type": "code",
   "execution_count": 59,
   "id": "1108b73a",
   "metadata": {},
   "outputs": [],
   "source": [
    "class Dog():\n",
    "    specis='Love'\n",
    "    def __init__(self,breed,name,spots):\n",
    "        self.name=name\n",
    "        self.breed=breed\n",
    "        self.spots= spots\n",
    "        \n",
    "    def some_methods(self):\n",
    "        print(f'woof{self.name}')"
   ]
  },
  {
   "cell_type": "code",
   "execution_count": 60,
   "id": "8fe3a6c4",
   "metadata": {},
   "outputs": [],
   "source": [
    "my_dog=Dog('indian','rahul',True)"
   ]
  },
  {
   "cell_type": "code",
   "execution_count": 62,
   "id": "da88d5fd",
   "metadata": {},
   "outputs": [
    {
     "name": "stdout",
     "output_type": "stream",
     "text": [
      "woofrahul\n"
     ]
    }
   ],
   "source": [
    "my_dog.some_methods()"
   ]
  },
  {
   "cell_type": "code",
   "execution_count": null,
   "id": "2306412f",
   "metadata": {},
   "outputs": [],
   "source": [
    "create another function "
   ]
  },
  {
   "cell_type": "code",
   "execution_count": 65,
   "id": "431e97cd",
   "metadata": {},
   "outputs": [],
   "source": [
    "class Dog():\n",
    "    specis='Love'\n",
    "    def __init__(self,breed,name,spots):\n",
    "        self.name=name\n",
    "        self.breed=breed\n",
    "        self.spots= spots\n",
    "        \n",
    "    def some_methods(self):\n",
    "        print(f'woof{self.name}')\n",
    "        \n",
    "    def woof(self):\n",
    "        ##Another way of printing and calling the attibutes\n",
    "        print('woof,my name is {}'.format(self.name))"
   ]
  },
  {
   "cell_type": "code",
   "execution_count": 66,
   "id": "772f8ff0",
   "metadata": {},
   "outputs": [],
   "source": [
    "my_dog=Dog('indian','desi',True)"
   ]
  },
  {
   "cell_type": "code",
   "execution_count": 68,
   "id": "922bea69",
   "metadata": {},
   "outputs": [
    {
     "name": "stdout",
     "output_type": "stream",
     "text": [
      "woof,my name is desi\n"
     ]
    }
   ],
   "source": [
    "my_dog.woof()"
   ]
  },
  {
   "cell_type": "code",
   "execution_count": null,
   "id": "0c125b4d",
   "metadata": {},
   "outputs": [],
   "source": [
    "##program to program to print the CIRCUMFERENCE OF THE CIRCLE"
   ]
  },
  {
   "cell_type": "code",
   "execution_count": 73,
   "id": "fafbb337",
   "metadata": {},
   "outputs": [],
   "source": [
    "class circle():\n",
    "    Pi=3.14\n",
    "    def __init__(self,radius):\n",
    "        self.radius=radius\n",
    "        \n",
    "    def Circumference(self):\n",
    "        return int(self.radius *2*circle.Pi)"
   ]
  },
  {
   "cell_type": "code",
   "execution_count": 74,
   "id": "285d77eb",
   "metadata": {},
   "outputs": [],
   "source": [
    "circle_ =circle(43.2)"
   ]
  },
  {
   "cell_type": "code",
   "execution_count": 75,
   "id": "f57b00b8",
   "metadata": {},
   "outputs": [
    {
     "data": {
      "text/plain": [
       "271"
      ]
     },
     "execution_count": 75,
     "metadata": {},
     "output_type": "execute_result"
    }
   ],
   "source": [
    "circle_.Circumference()"
   ]
  },
  {
   "cell_type": "code",
   "execution_count": null,
   "id": "c1e0476b",
   "metadata": {},
   "outputs": [],
   "source": [
    "##program to program to print the Area OF THE CIRCLE"
   ]
  },
  {
   "cell_type": "code",
   "execution_count": 76,
   "id": "da1714dd",
   "metadata": {},
   "outputs": [],
   "source": [
    "class circle():\n",
    "    Pi=3.14\n",
    "    def __init__(self,radius):\n",
    "        self.radius=radius\n",
    "        \n",
    "    def Area(self):\n",
    "        return int(circle.Pi*self.radius **2)"
   ]
  },
  {
   "cell_type": "code",
   "execution_count": 77,
   "id": "698c69d7",
   "metadata": {},
   "outputs": [],
   "source": [
    "circle1=circle(34)"
   ]
  },
  {
   "cell_type": "code",
   "execution_count": 78,
   "id": "2483c0ab",
   "metadata": {},
   "outputs": [
    {
     "data": {
      "text/plain": [
       "3629"
      ]
     },
     "execution_count": 78,
     "metadata": {},
     "output_type": "execute_result"
    }
   ],
   "source": [
    "circle1.Area()"
   ]
  },
  {
   "cell_type": "code",
   "execution_count": null,
   "id": "e2868ce7",
   "metadata": {},
   "outputs": [],
   "source": [
    "#Another method for the insitalisation"
   ]
  },
  {
   "cell_type": "code",
   "execution_count": 79,
   "id": "77f17506",
   "metadata": {},
   "outputs": [],
   "source": [
    "class circle():\n",
    "    Pi=3.14\n",
    "    def __init__(self,radius):\n",
    "        self.radius=radius\n",
    "        self.area=circle.Pi*self.radius **2\n",
    "        \n"
   ]
  },
  {
   "cell_type": "code",
   "execution_count": 80,
   "id": "86da6105",
   "metadata": {},
   "outputs": [],
   "source": [
    "mycircle_=circle(23)"
   ]
  },
  {
   "cell_type": "code",
   "execution_count": 81,
   "id": "1997a193",
   "metadata": {},
   "outputs": [
    {
     "data": {
      "text/plain": [
       "1661.0600000000002"
      ]
     },
     "execution_count": 81,
     "metadata": {},
     "output_type": "execute_result"
    }
   ],
   "source": [
    "mycircle_.area"
   ]
  },
  {
   "cell_type": "code",
   "execution_count": null,
   "id": "760b8aab",
   "metadata": {},
   "outputs": [],
   "source": [
    "INHERITANCE IN OOPS"
   ]
  },
  {
   "cell_type": "code",
   "execution_count": 103,
   "id": "2171d937",
   "metadata": {},
   "outputs": [],
   "source": [
    "class Animal():\n",
    "    def __init__(self):\n",
    "        print('animal_Ceated')\n",
    "    def who_m_i(self):\n",
    "        print('i am animal')\n",
    "    def what_i_do(self):\n",
    "        print('i love eating')"
   ]
  },
  {
   "cell_type": "code",
   "execution_count": 104,
   "id": "4df1cfb7",
   "metadata": {},
   "outputs": [],
   "source": [
    "class dog(Animal):\n",
    "    def __init__(self,name):\n",
    "           Animal.__init__(self)\n",
    "           print('dog created')"
   ]
  },
  {
   "cell_type": "code",
   "execution_count": 105,
   "id": "e8a6a679",
   "metadata": {},
   "outputs": [
    {
     "name": "stdout",
     "output_type": "stream",
     "text": [
      "animal_Ceated\n",
      "dog created\n"
     ]
    }
   ],
   "source": [
    "my_1=dog('i')"
   ]
  },
  {
   "cell_type": "code",
   "execution_count": 114,
   "id": "bfeb947f",
   "metadata": {},
   "outputs": [],
   "source": [
    "class Animal():\n",
    "    def __init__(self):\n",
    "        self.name=name\n",
    "    def who_m_i(self):\n",
    "        print('i am animal')\n",
    "    def what_i_do(self):\n",
    "        print('i love eating')"
   ]
  },
  {
   "cell_type": "code",
   "execution_count": 118,
   "id": "14fe94df",
   "metadata": {},
   "outputs": [],
   "source": [
    "class dog(Animal):\n",
    "    def __init__(self):\n",
    "           Animal.__init__(self)\n",
    "           print('dog created')"
   ]
  },
  {
   "cell_type": "code",
   "execution_count": 120,
   "id": "ed6726f6",
   "metadata": {},
   "outputs": [
    {
     "ename": "TypeError",
     "evalue": "__init__() takes 1 positional argument but 2 were given",
     "output_type": "error",
     "traceback": [
      "\u001b[1;31m---------------------------------------------------------------------------\u001b[0m",
      "\u001b[1;31mTypeError\u001b[0m                                 Traceback (most recent call last)",
      "\u001b[1;32m~\\AppData\\Local\\Temp/ipykernel_17112/2075801979.py\u001b[0m in \u001b[0;36m<module>\u001b[1;34m\u001b[0m\n\u001b[1;32m----> 1\u001b[1;33m \u001b[0mmy2\u001b[0m\u001b[1;33m=\u001b[0m\u001b[0mdog\u001b[0m\u001b[1;33m(\u001b[0m\u001b[1;34m'ini'\u001b[0m\u001b[1;33m)\u001b[0m\u001b[1;33m\u001b[0m\u001b[1;33m\u001b[0m\u001b[0m\n\u001b[0m",
      "\u001b[1;31mTypeError\u001b[0m: __init__() takes 1 positional argument but 2 were given"
     ]
    }
   ],
   "source": [
    "my2=dog('ini')"
   ]
  }
 ],
 "metadata": {
  "kernelspec": {
   "display_name": "Python 3 (ipykernel)",
   "language": "python",
   "name": "python3"
  },
  "language_info": {
   "codemirror_mode": {
    "name": "ipython",
    "version": 3
   },
   "file_extension": ".py",
   "mimetype": "text/x-python",
   "name": "python",
   "nbconvert_exporter": "python",
   "pygments_lexer": "ipython3",
   "version": "3.9.7"
  }
 },
 "nbformat": 4,
 "nbformat_minor": 5
}
