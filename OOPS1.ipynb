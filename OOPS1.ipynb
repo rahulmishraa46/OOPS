{
 "cells": [
  {
   "cell_type": "markdown",
   "id": "9a155680",
   "metadata": {},
   "source": [
    "# \n",
    "\n",
    "\n",
    "\n",
    "OOPS(PROGRAMMING)"
   ]
  },
  {
   "cell_type": "markdown",
   "id": "102710a3",
   "metadata": {},
   "source": [
    "# methods (): are the functions that are decalred inside the a class are called as Methods\n",
    "    \n",
    "Attribute: are the initaillition done inside the class (constructor)"
   ]
  },
  {
   "cell_type": "code",
   "execution_count": null,
   "id": "923120fa",
   "metadata": {},
   "outputs": [],
   "source": [
    "decalartion of the class :"
   ]
  },
  {
   "cell_type": "code",
   "execution_count": 37,
   "id": "b2613c45",
   "metadata": {},
   "outputs": [],
   "source": [
    "class Dog():\n",
    "    ##intiasation of the of the attributes.\n",
    "    def __init__(Self,param1,param2):\n",
    "        Self.param1 = param1\n",
    "        Self.param2 = param2\n",
    "    def SOME_METHOD(self):\n",
    "        #declaration of the method.\n",
    "        print('self.param')"
   ]
  },
  {
   "cell_type": "code",
   "execution_count": 38,
   "id": "779b3073",
   "metadata": {},
   "outputs": [],
   "source": [
    "dog = Dog('india','gomti ngar')"
   ]
  },
  {
   "cell_type": "code",
   "execution_count": 39,
   "id": "49a0c97e",
   "metadata": {},
   "outputs": [
    {
     "name": "stdout",
     "output_type": "stream",
     "text": [
      "self.param\n"
     ]
    }
   ],
   "source": [
    "dog.SOME_METHOD()"
   ]
  },
  {
   "cell_type": "code",
   "execution_count": 40,
   "id": "95e84f58",
   "metadata": {},
   "outputs": [
    {
     "data": {
      "text/plain": [
       "'gomti ngar'"
      ]
     },
     "execution_count": 40,
     "metadata": {},
     "output_type": "execute_result"
    }
   ],
   "source": [
    "dog.param2\n"
   ]
  },
  {
   "cell_type": "code",
   "execution_count": 41,
   "id": "c7a98bd5",
   "metadata": {},
   "outputs": [
    {
     "data": {
      "text/plain": [
       "'india'"
      ]
     },
     "execution_count": 41,
     "metadata": {},
     "output_type": "execute_result"
    }
   ],
   "source": [
    "dog.param1"
   ]
  },
  {
   "cell_type": "code",
   "execution_count": 42,
   "id": "0ea42295",
   "metadata": {},
   "outputs": [],
   "source": [
    "#code :2\n",
    "class Dog():\n",
    "    def __init__(self,breed):\n",
    "        self.breed= breed\n",
    "    "
   ]
  },
  {
   "cell_type": "code",
   "execution_count": 43,
   "id": "997efe80",
   "metadata": {},
   "outputs": [],
   "source": [
    "my_dog=Dog('Pomerian')"
   ]
  },
  {
   "cell_type": "code",
   "execution_count": 44,
   "id": "4ee20706",
   "metadata": {},
   "outputs": [
    {
     "data": {
      "text/plain": [
       "'Pomerian'"
      ]
     },
     "execution_count": 44,
     "metadata": {},
     "output_type": "execute_result"
    }
   ],
   "source": [
    "my_dog.breed"
   ]
  },
  {
   "cell_type": "code",
   "execution_count": 45,
   "id": "d95c2293",
   "metadata": {},
   "outputs": [],
   "source": [
    "my_dog=Dog(breed = 'Indian_Pemrian')"
   ]
  },
  {
   "cell_type": "code",
   "execution_count": 46,
   "id": "78a35a67",
   "metadata": {},
   "outputs": [
    {
     "data": {
      "text/plain": [
       "'Indian_Pemrian'"
      ]
     },
     "execution_count": 46,
     "metadata": {},
     "output_type": "execute_result"
    }
   ],
   "source": [
    "my_dog.breed\n"
   ]
  },
  {
   "cell_type": "code",
   "execution_count": null,
   "id": "c7dfca6a",
   "metadata": {},
   "outputs": [],
   "source": [
    "Creating a class with  more attributes "
   ]
  },
  {
   "cell_type": "code",
   "execution_count": 47,
   "id": "e316c011",
   "metadata": {},
   "outputs": [],
   "source": [
    "class Dog():\n",
    "    def __init__(self,name,breed,spots):\n",
    "        self.name=name\n",
    "        self.breed=breed\n",
    "        self.spots= spots"
   ]
  },
  {
   "cell_type": "code",
   "execution_count": 49,
   "id": "899f1e30",
   "metadata": {},
   "outputs": [],
   "source": [
    "my_dog = Dog ('tu','indian',False)\n",
    "\n",
    "##Spots has been entered as boolean "
   ]
  },
  {
   "cell_type": "code",
   "execution_count": 50,
   "id": "a7a46e6a",
   "metadata": {},
   "outputs": [
    {
     "data": {
      "text/plain": [
       "'indian'"
      ]
     },
     "execution_count": 50,
     "metadata": {},
     "output_type": "execute_result"
    }
   ],
   "source": [
    "my_dog.breed"
   ]
  },
  {
   "cell_type": "code",
   "execution_count": 51,
   "id": "0a2ca601",
   "metadata": {},
   "outputs": [
    {
     "data": {
      "text/plain": [
       "'tu'"
      ]
     },
     "execution_count": 51,
     "metadata": {},
     "output_type": "execute_result"
    }
   ],
   "source": [
    "my_dog.name"
   ]
  },
  {
   "cell_type": "code",
   "execution_count": 52,
   "id": "f50e9110",
   "metadata": {},
   "outputs": [
    {
     "data": {
      "text/plain": [
       "False"
      ]
     },
     "execution_count": 52,
     "metadata": {},
     "output_type": "execute_result"
    }
   ],
   "source": [
    "my_dog.spots"
   ]
  },
  {
   "cell_type": "code",
   "execution_count": null,
   "id": "0ee377ea",
   "metadata": {},
   "outputs": [],
   "source": [
    "defining the class object attributes .\n",
    "\n"
   ]
  },
  {
   "cell_type": "code",
   "execution_count": 55,
   "id": "037b30c6",
   "metadata": {},
   "outputs": [],
   "source": [
    "class Dog():\n",
    "    specis='Love'\n",
    "    def __init__(self,breed,name,spots):\n",
    "        self.name=name\n",
    "        self.breed=breed\n",
    "        self.spots= spots\n",
    "        "
   ]
  },
  {
   "cell_type": "code",
   "execution_count": 57,
   "id": "6cce177d",
   "metadata": {},
   "outputs": [],
   "source": [
    "my_dog=Dog('indian','rahul',True)"
   ]
  },
  {
   "cell_type": "code",
   "execution_count": 58,
   "id": "7cd2646d",
   "metadata": {},
   "outputs": [
    {
     "data": {
      "text/plain": [
       "'Love'"
      ]
     },
     "execution_count": 58,
     "metadata": {},
     "output_type": "execute_result"
    }
   ],
   "source": [
    "my_dog.specis"
   ]
  },
  {
   "cell_type": "code",
   "execution_count": null,
   "id": "8bd8fb3f",
   "metadata": {},
   "outputs": [],
   "source": [
    "#defining the methods in the class ."
   ]
  },
  {
   "cell_type": "code",
   "execution_count": 59,
   "id": "ab928435",
   "metadata": {},
   "outputs": [],
   "source": [
    "class Dog():\n",
    "    specis='Love'\n",
    "    def __init__(self,breed,name,spots):\n",
    "        self.name=name\n",
    "        self.breed=breed\n",
    "        self.spots= spots\n",
    "        \n",
    "    def some_methods(self):\n",
    "        print(f'woof{self.name}')"
   ]
  },
  {
   "cell_type": "code",
   "execution_count": 60,
   "id": "43521e29",
   "metadata": {},
   "outputs": [],
   "source": [
    "my_dog=Dog('indian','rahul',True)"
   ]
  },
  {
   "cell_type": "code",
   "execution_count": 62,
   "id": "96c48a64",
   "metadata": {},
   "outputs": [
    {
     "name": "stdout",
     "output_type": "stream",
     "text": [
      "woofrahul\n"
     ]
    }
   ],
   "source": [
    "my_dog.some_methods()"
   ]
  },
  {
   "cell_type": "code",
   "execution_count": null,
   "id": "2ac391df",
   "metadata": {},
   "outputs": [],
   "source": [
    "create another function "
   ]
  },
  {
   "cell_type": "code",
   "execution_count": 65,
   "id": "3ddb1eb2",
   "metadata": {},
   "outputs": [],
   "source": [
    "class Dog():\n",
    "    specis='Love'\n",
    "    def __init__(self,breed,name,spots):\n",
    "        self.name=name\n",
    "        self.breed=breed\n",
    "        self.spots= spots\n",
    "        \n",
    "    def some_methods(self):\n",
    "        print(f'woof{self.name}')\n",
    "        \n",
    "    def woof(self):\n",
    "        ##Another way of printing and calling the attibutes\n",
    "        print('woof,my name is {}'.format(self.name))"
   ]
  },
  {
   "cell_type": "code",
   "execution_count": 66,
   "id": "b5b7a9ff",
   "metadata": {},
   "outputs": [],
   "source": [
    "my_dog=Dog('indian','desi',True)"
   ]
  },
  {
   "cell_type": "code",
   "execution_count": 68,
   "id": "b6b4ce10",
   "metadata": {},
   "outputs": [
    {
     "name": "stdout",
     "output_type": "stream",
     "text": [
      "woof,my name is desi\n"
     ]
    }
   ],
   "source": [
    "my_dog.woof()"
   ]
  },
  {
   "cell_type": "code",
   "execution_count": null,
   "id": "340b0c82",
   "metadata": {},
   "outputs": [],
   "source": [
    "##program to program to print the CIRCUMFERENCE OF THE CIRCLE"
   ]
  },
  {
   "cell_type": "code",
   "execution_count": 73,
   "id": "d5926789",
   "metadata": {},
   "outputs": [],
   "source": [
    "class circle():\n",
    "    Pi=3.14\n",
    "    def __init__(self,radius):\n",
    "        self.radius=radius\n",
    "        \n",
    "    def Circumference(self):\n",
    "        return int(self.radius *2*circle.Pi)"
   ]
  },
  {
   "cell_type": "code",
   "execution_count": 74,
   "id": "d4099682",
   "metadata": {},
   "outputs": [],
   "source": [
    "circle_ =circle(43.2)"
   ]
  },
  {
   "cell_type": "code",
   "execution_count": 75,
   "id": "b0e35b9e",
   "metadata": {},
   "outputs": [
    {
     "data": {
      "text/plain": [
       "271"
      ]
     },
     "execution_count": 75,
     "metadata": {},
     "output_type": "execute_result"
    }
   ],
   "source": [
    "circle_.Circumference()"
   ]
  },
  {
   "cell_type": "code",
   "execution_count": null,
   "id": "29a1222c",
   "metadata": {},
   "outputs": [],
   "source": [
    "##program to program to print the Area OF THE CIRCLE"
   ]
  },
  {
   "cell_type": "code",
   "execution_count": 76,
   "id": "46e5014c",
   "metadata": {},
   "outputs": [],
   "source": [
    "class circle():\n",
    "    Pi=3.14\n",
    "    def __init__(self,radius):\n",
    "        self.radius=radius\n",
    "        \n",
    "    def Area(self):\n",
    "        return int(circle.Pi*self.radius **2)"
   ]
  },
  {
   "cell_type": "code",
   "execution_count": 77,
   "id": "1c4febd7",
   "metadata": {},
   "outputs": [],
   "source": [
    "circle1=circle(34)"
   ]
  },
  {
   "cell_type": "code",
   "execution_count": 78,
   "id": "df121b0f",
   "metadata": {},
   "outputs": [
    {
     "data": {
      "text/plain": [
       "3629"
      ]
     },
     "execution_count": 78,
     "metadata": {},
     "output_type": "execute_result"
    }
   ],
   "source": [
    "circle1.Area()"
   ]
  },
  {
   "cell_type": "code",
   "execution_count": null,
   "id": "516eb5d7",
   "metadata": {},
   "outputs": [],
   "source": [
    "#Another method for the insitalisation"
   ]
  },
  {
   "cell_type": "code",
   "execution_count": 79,
   "id": "b30920de",
   "metadata": {},
   "outputs": [],
   "source": [
    "class circle():\n",
    "    Pi=3.14\n",
    "    def __init__(self,radius):\n",
    "        self.radius=radius\n",
    "        self.area=circle.Pi*self.radius **2\n",
    "        \n"
   ]
  },
  {
   "cell_type": "code",
   "execution_count": 80,
   "id": "8d8d092c",
   "metadata": {},
   "outputs": [],
   "source": [
    "mycircle_=circle(23)"
   ]
  },
  {
   "cell_type": "code",
   "execution_count": 81,
   "id": "b884086d",
   "metadata": {},
   "outputs": [
    {
     "data": {
      "text/plain": [
       "1661.0600000000002"
      ]
     },
     "execution_count": 81,
     "metadata": {},
     "output_type": "execute_result"
    }
   ],
   "source": [
    "mycircle_.area"
   ]
  }
 ],
 "metadata": {
  "kernelspec": {
   "display_name": "Python 3 (ipykernel)",
   "language": "python",
   "name": "python3"
  },
  "language_info": {
   "codemirror_mode": {
    "name": "ipython",
    "version": 3
   },
   "file_extension": ".py",
   "mimetype": "text/x-python",
   "name": "python",
   "nbconvert_exporter": "python",
   "pygments_lexer": "ipython3",
   "version": "3.9.7"
  }
 },
 "nbformat": 4,
 "nbformat_minor": 5
}
